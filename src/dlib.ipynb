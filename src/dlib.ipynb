{
 "cells": [
  {
   "cell_type": "code",
   "execution_count": 1,
   "metadata": {},
   "outputs": [],
   "source": [
    "import cv2 as cv\n",
    "from cv2 import convexityDefects\n",
    "from cv2 import rectangle\n",
    "import numpy as np\n",
    "import dlib\n",
    "from imutils import face_utils\n",
    "from numpy import average\n",
    "\n",
    "cascade_path = '/home/denjo/experiment/cvgl/opencv/data/haarcascades/haarcascade_frontalface_default.xml'\n",
    "predictor_path = \"../../dlib/shape_predictor_68_face_landmarks.dat\"\n",
    "face_predictor = dlib.shape_predictor(predictor_path)\n",
    "\n",
    "FPS = 15\n",
    "FRAME_WIDTH = 1280\n",
    "FRAME_HEIGHT = 300\n",
    "cap = cv.VideoCapture(0)\n",
    "cap.set(cv.CAP_PROP_FPS, FPS)\n",
    "cap.set(cv.CAP_PROP_FRAME_WIDTH, FRAME_WIDTH)\n",
    "cap.set(cv.CAP_PROP_FRAME_HEIGHT, FRAME_HEIGHT)\n",
    "\n",
    "while (True):\n",
    "    ret, img = cap.read()\n",
    "    if(ret == False):\n",
    "        print(\"cannot open video\")\n",
    "        exit(0)\n",
    "    img_gray = cv.cvtColor(img, cv.COLOR_BGR2GRAY)\n",
    "    cascade = cv.CascadeClassifier(cascade_path)\n",
    "    faces = cascade.detectMultiScale(img_gray, 1.1, 3, 0, (30, 30))\n",
    "    #print(\"number of faces: \", len(faces))\n",
    "\n",
    "    if (len(faces)>0):\n",
    "        for rect in faces:\n",
    "            color = (255, 255, 255)\n",
    "            cv.rectangle(img, tuple(rect[0:2]), tuple(rect[0:2]+rect[2:4]), color, 2)\n",
    "    #print(faces)\n",
    "\n",
    "    for face in faces:\n",
    "        face_d = dlib.rectangle(face[0], face[1], face[0]+face[2], face[1]+face[3])\n",
    "        landmark = face_predictor(img_gray, face_d)\n",
    "        landmark = face_utils.shape_to_np(landmark)\n",
    "        for (i, (x, y)) in enumerate(landmark):\n",
    "            cv.circle(img, (x, y), 1, (255, 0, 0), -1)\n",
    "    cv.imshow(\"result\", img)\n",
    "    if(cv.waitKey(10) & 0xFF == ord('q')):\n",
    "        cv.destroyAllWindows()\n",
    "        cap.release()\n",
    "        break"
   ]
  }
 ],
 "metadata": {
  "interpreter": {
   "hash": "31f2aee4e71d21fbe5cf8b01ff0e069b9275f58929596ceb00d14d90e3e16cd6"
  },
  "kernelspec": {
   "display_name": "Python 3.8.10 64-bit",
   "language": "python",
   "name": "python3"
  },
  "language_info": {
   "codemirror_mode": {
    "name": "ipython",
    "version": 3
   },
   "file_extension": ".py",
   "mimetype": "text/x-python",
   "name": "python",
   "nbconvert_exporter": "python",
   "pygments_lexer": "ipython3",
   "version": "3.8.10"
  },
  "orig_nbformat": 4
 },
 "nbformat": 4,
 "nbformat_minor": 2
}
