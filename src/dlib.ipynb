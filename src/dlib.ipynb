{
 "cells": [
  {
   "cell_type": "code",
   "execution_count": 1,
   "metadata": {},
   "outputs": [
    {
     "ename": "KeyboardInterrupt",
     "evalue": "",
     "output_type": "error",
     "traceback": [
      "\u001b[0;31m---------------------------------------------------------------------------\u001b[0m",
      "\u001b[0;31mKeyboardInterrupt\u001b[0m                         Traceback (most recent call last)",
      "Cell \u001b[0;32mIn [1], line 1\u001b[0m\n\u001b[0;32m----> 1\u001b[0m \u001b[39mimport\u001b[39;00m \u001b[39mcv2\u001b[39;00m \u001b[39mas\u001b[39;00m \u001b[39mcv\u001b[39;00m\n\u001b[1;32m      2\u001b[0m \u001b[39mfrom\u001b[39;00m \u001b[39mcv2\u001b[39;00m \u001b[39mimport\u001b[39;00m convexityDefects\n\u001b[1;32m      3\u001b[0m \u001b[39mfrom\u001b[39;00m \u001b[39mcv2\u001b[39;00m \u001b[39mimport\u001b[39;00m rectangle\n",
      "File \u001b[0;32m~/.local/lib/python3.8/site-packages/cv2/__init__.py:11\u001b[0m\n\u001b[1;32m      8\u001b[0m __all__ \u001b[39m=\u001b[39m []\n\u001b[1;32m     10\u001b[0m \u001b[39mtry\u001b[39;00m:\n\u001b[0;32m---> 11\u001b[0m     \u001b[39mimport\u001b[39;00m \u001b[39mnumpy\u001b[39;00m\n\u001b[1;32m     12\u001b[0m     \u001b[39mimport\u001b[39;00m \u001b[39mnumpy\u001b[39;00m\u001b[39m.\u001b[39;00m\u001b[39mcore\u001b[39;00m\u001b[39m.\u001b[39;00m\u001b[39mmultiarray\u001b[39;00m\n\u001b[1;32m     13\u001b[0m \u001b[39mexcept\u001b[39;00m \u001b[39mImportError\u001b[39;00m:\n",
      "File \u001b[0;32m~/.local/lib/python3.8/site-packages/numpy/__init__.py:150\u001b[0m\n\u001b[1;32m    148\u001b[0m \u001b[39mfrom\u001b[39;00m \u001b[39m.\u001b[39;00m \u001b[39mimport\u001b[39;00m linalg\n\u001b[1;32m    149\u001b[0m \u001b[39mfrom\u001b[39;00m \u001b[39m.\u001b[39;00m \u001b[39mimport\u001b[39;00m fft\n\u001b[0;32m--> 150\u001b[0m \u001b[39mfrom\u001b[39;00m \u001b[39m.\u001b[39;00m \u001b[39mimport\u001b[39;00m polynomial\n\u001b[1;32m    151\u001b[0m \u001b[39mfrom\u001b[39;00m \u001b[39m.\u001b[39;00m \u001b[39mimport\u001b[39;00m random\n\u001b[1;32m    152\u001b[0m \u001b[39mfrom\u001b[39;00m \u001b[39m.\u001b[39;00m \u001b[39mimport\u001b[39;00m ctypeslib\n",
      "File \u001b[0;32m~/.local/lib/python3.8/site-packages/numpy/polynomial/__init__.py:119\u001b[0m\n\u001b[1;32m    117\u001b[0m \u001b[39mfrom\u001b[39;00m \u001b[39m.\u001b[39;00m\u001b[39mchebyshev\u001b[39;00m \u001b[39mimport\u001b[39;00m Chebyshev\n\u001b[1;32m    118\u001b[0m \u001b[39mfrom\u001b[39;00m \u001b[39m.\u001b[39;00m\u001b[39mlegendre\u001b[39;00m \u001b[39mimport\u001b[39;00m Legendre\n\u001b[0;32m--> 119\u001b[0m \u001b[39mfrom\u001b[39;00m \u001b[39m.\u001b[39;00m\u001b[39mhermite\u001b[39;00m \u001b[39mimport\u001b[39;00m Hermite\n\u001b[1;32m    120\u001b[0m \u001b[39mfrom\u001b[39;00m \u001b[39m.\u001b[39;00m\u001b[39mhermite_e\u001b[39;00m \u001b[39mimport\u001b[39;00m HermiteE\n\u001b[1;32m    121\u001b[0m \u001b[39mfrom\u001b[39;00m \u001b[39m.\u001b[39;00m\u001b[39mlaguerre\u001b[39;00m \u001b[39mimport\u001b[39;00m Laguerre\n",
      "File \u001b[0;32m~/.local/lib/python3.8/site-packages/numpy/polynomial/hermite.py:1658\u001b[0m\n\u001b[1;32m   1651\u001b[0m     \u001b[39mreturn\u001b[39;00m w\n\u001b[1;32m   1654\u001b[0m \u001b[39m#\u001b[39;00m\n\u001b[1;32m   1655\u001b[0m \u001b[39m# Hermite series class\u001b[39;00m\n\u001b[1;32m   1656\u001b[0m \u001b[39m#\u001b[39;00m\n\u001b[0;32m-> 1658\u001b[0m \u001b[39mclass\u001b[39;00m \u001b[39mHermite\u001b[39;00m(ABCPolyBase):\n\u001b[1;32m   1659\u001b[0m     \u001b[39m\"\"\"An Hermite series class.\u001b[39;00m\n\u001b[1;32m   1660\u001b[0m \n\u001b[1;32m   1661\u001b[0m \u001b[39m    The Hermite class provides the standard Python numerical methods\u001b[39;00m\n\u001b[0;32m   (...)\u001b[0m\n\u001b[1;32m   1678\u001b[0m \n\u001b[1;32m   1679\u001b[0m \u001b[39m    \"\"\"\u001b[39;00m\n\u001b[1;32m   1680\u001b[0m     \u001b[39m# Virtual Functions\u001b[39;00m\n",
      "File \u001b[0;32m/usr/lib/python3.8/abc.py:85\u001b[0m, in \u001b[0;36mABCMeta.__new__\u001b[0;34m(mcls, name, bases, namespace, **kwargs)\u001b[0m\n\u001b[1;32m     84\u001b[0m \u001b[39mdef\u001b[39;00m \u001b[39m__new__\u001b[39m(mcls, name, bases, namespace, \u001b[39m*\u001b[39m\u001b[39m*\u001b[39mkwargs):\n\u001b[0;32m---> 85\u001b[0m     \u001b[39mcls\u001b[39m \u001b[39m=\u001b[39m \u001b[39msuper\u001b[39;49m()\u001b[39m.\u001b[39;49m\u001b[39m__new__\u001b[39;49m(mcls, name, bases, namespace, \u001b[39m*\u001b[39;49m\u001b[39m*\u001b[39;49mkwargs)\n\u001b[1;32m     86\u001b[0m     _abc_init(\u001b[39mcls\u001b[39m)\n\u001b[1;32m     87\u001b[0m     \u001b[39mreturn\u001b[39;00m \u001b[39mcls\u001b[39m\n",
      "\u001b[0;31mKeyboardInterrupt\u001b[0m: "
     ]
    }
   ],
   "source": [
    "import cv2 as cv\n",
    "from cv2 import convexityDefects\n",
    "from cv2 import rectangle\n",
    "import numpy as np\n",
    "import dlib\n",
    "from imutils import face_utils\n",
    "from numpy import average\n",
    "\n",
    "cascade_path = '/home/denjo/experiment/cvgl/opencv/data/haarcascades/haarcascade_frontalface_default.xml'\n",
    "predictor_path = \"../../dlib/shape_predictor_68_face_landmarks.dat\"\n",
    "face_predictor = dlib.shape_predictor(predictor_path)\n",
    "\n",
    "FPS = 15\n",
    "FRAME_WIDTH = 1280\n",
    "FRAME_HEIGHT = 300\n",
    "cap = cv.VideoCapture(0)\n",
    "cap.set(cv.CAP_PROP_FPS, FPS)\n",
    "cap.set(cv.CAP_PROP_FRAME_WIDTH, FRAME_WIDTH)\n",
    "cap.set(cv.CAP_PROP_FRAME_HEIGHT, FRAME_HEIGHT)\n",
    "\n",
    "while (True):\n",
    "    ret, img = cap.read()\n",
    "    if(ret == False):\n",
    "        print(\"cannot open video\")\n",
    "        exit(0)\n",
    "    img_gray = cv.cvtColor(img, cv.COLOR_BGR2GRAY)\n",
    "    cascade = cv.CascadeClassifier(cascade_path)\n",
    "    faces = cascade.detectMultiScale(img_gray, 1.1, 3, 0, (30, 30))\n",
    "    #print(\"number of faces: \", len(faces))\n",
    "\n",
    "    if (len(faces)>0):\n",
    "        for rect in faces:\n",
    "            color = (255, 255, 255)\n",
    "            cv.rectangle(img, tuple(rect[0:2]), tuple(rect[0:2]+rect[2:4]), color, 2)\n",
    "    #print(faces)\n",
    "\n",
    "    for face in faces:\n",
    "        face_d = dlib.rectangle(face[0], face[1], face[0]+face[2], face[1]+face[3])\n",
    "        landmark = face_predictor(img_gray, face_d)\n",
    "        landmark = face_utils.shape_to_np(landmark)\n",
    "        for (i, (x, y)) in enumerate(landmark):\n",
    "            cv.circle(img, (x, y), 1, (255, 0, 0), -1)\n",
    "    cv.imshow(\"result\", img)\n",
    "    if(cv.waitKey(10) & 0xFF == ord('q')):\n",
    "        cv.destroyAllWindows()\n",
    "        cap.release()\n",
    "        break"
   ]
  }
 ],
 "metadata": {
  "interpreter": {
   "hash": "31f2aee4e71d21fbe5cf8b01ff0e069b9275f58929596ceb00d14d90e3e16cd6"
  },
  "kernelspec": {
   "display_name": "Python 3.8.10 64-bit",
   "language": "python",
   "name": "python3"
  },
  "language_info": {
   "codemirror_mode": {
    "name": "ipython",
    "version": 3
   },
   "file_extension": ".py",
   "mimetype": "text/x-python",
   "name": "python",
   "nbconvert_exporter": "python",
   "pygments_lexer": "ipython3",
   "version": "3.8.10"
  },
  "orig_nbformat": 4
 },
 "nbformat": 4,
 "nbformat_minor": 2
}
